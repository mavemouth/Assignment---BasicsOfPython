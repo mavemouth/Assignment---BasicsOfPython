{
 "cells": [
  {
   "cell_type": "markdown",
   "id": "72d27c6f",
   "metadata": {},
   "source": [
    "# Day-2\n",
    "## Assignment -> Basics Of Python\n",
    "### Instructions -> Each cell represents one question or part of the each question however the questions will be marked as a comment.(Like Q1 part d) "
   ]
  },
  {
   "cell_type": "code",
   "execution_count": 1,
   "id": "8c9ccf66",
   "metadata": {},
   "outputs": [
    {
     "name": "stdout",
     "output_type": "stream",
     "text": [
      "Original List ->  [11, 12, 13, 14]\n",
      "New List ->  [11, 12, 13, 14, 50, 60]\n"
     ]
    }
   ],
   "source": [
    "# Q1 Part-a\n",
    "L=[11,12,13,14]\n",
    "print(\"Original List -> \",L)\n",
    "print(\"New List -> \",L+[50,60])"
   ]
  },
  {
   "cell_type": "code",
   "execution_count": 2,
   "id": "3c920fa6",
   "metadata": {},
   "outputs": [
    {
     "name": "stdout",
     "output_type": "stream",
     "text": [
      "Original List ->  [11, 12, 13, 14]\n",
      "New List ->  [12, 13]\n"
     ]
    }
   ],
   "source": [
    "# Q1 Part-b\n",
    "L=[11,12,13,14]\n",
    "print(\"Original List -> \",L)\n",
    "del L[0]\n",
    "del L[2]\n",
    "print(\"New List -> \",L)"
   ]
  },
  {
   "cell_type": "code",
   "execution_count": 3,
   "id": "37526cf4",
   "metadata": {},
   "outputs": [
    {
     "name": "stdout",
     "output_type": "stream",
     "text": [
      "Original List ->  [11, 12, 13, 14]\n",
      "New List ->  [11, 12, 13, 14]\n"
     ]
    }
   ],
   "source": [
    "# Q1 Part-c\n",
    "L=[11,12,13,14]\n",
    "print(\"Original List -> \",L)\n",
    "L.sort()\n",
    "print(\"New List -> \",L)"
   ]
  },
  {
   "cell_type": "code",
   "execution_count": 4,
   "id": "487681dd",
   "metadata": {},
   "outputs": [
    {
     "name": "stdout",
     "output_type": "stream",
     "text": [
      "Original List ->  [11, 12, 13, 14]\n",
      "New List ->  [14, 13, 12, 11]\n"
     ]
    }
   ],
   "source": [
    "# Q1 Part-d\n",
    "L=[11,12,13,14]\n",
    "print(\"Original List -> \",L)\n",
    "L.sort(reverse=True)\n",
    "print(\"New List -> \",L)"
   ]
  },
  {
   "cell_type": "code",
   "execution_count": 5,
   "id": "1c7a91a5",
   "metadata": {},
   "outputs": [
    {
     "name": "stdout",
     "output_type": "stream",
     "text": [
      "Original List ->  [11, 12, 13, 14]\n",
      "Present\n"
     ]
    }
   ],
   "source": [
    "# Q1 Part-e\n",
    "L=[11,12,13,14]\n",
    "print(\"Original List -> \",L)\n",
    "if (13 in L)==True:\n",
    "    print(\"Present\")\n",
    "else:\n",
    "    print(\"Not Present\")"
   ]
  },
  {
   "cell_type": "code",
   "execution_count": 6,
   "id": "3f717c3f",
   "metadata": {},
   "outputs": [
    {
     "name": "stdout",
     "output_type": "stream",
     "text": [
      "Original List ->  [11, 12, 13, 14]\n",
      "Total number of elemnts in the list is  4\n"
     ]
    }
   ],
   "source": [
    "# Q1 Part-f\n",
    "L=[11,12,13,14]\n",
    "print(\"Original List -> \",L)\n",
    "print(\"Total number of elemnts in the list is \",len(L))"
   ]
  },
  {
   "cell_type": "code",
   "execution_count": 7,
   "id": "9898aa02",
   "metadata": {},
   "outputs": [
    {
     "name": "stdout",
     "output_type": "stream",
     "text": [
      "Original List ->  [11, 12, 13, 14]\n",
      "The sum of all the elements in the list is  50\n"
     ]
    }
   ],
   "source": [
    "# Q1 Part-g\n",
    "L=[11,12,13,14]\n",
    "print(\"Original List -> \",L)\n",
    "print(\"The sum of all the elements in the list is \",sum(L))"
   ]
  },
  {
   "cell_type": "code",
   "execution_count": 8,
   "id": "67728605",
   "metadata": {},
   "outputs": [
    {
     "name": "stdout",
     "output_type": "stream",
     "text": [
      "Original List ->  [11, 12, 13, 14]\n",
      "Sum of all ODD numbers in the list is  24\n"
     ]
    }
   ],
   "source": [
    "# Q1 Part-h\n",
    "L=[11,12,13,14]\n",
    "print(\"Original List -> \",L)\n",
    "i=0\n",
    "while i<len(L):\n",
    "    if L[i]%2==0:\n",
    "        L.pop(i)\n",
    "    else:\n",
    "        i+=1\n",
    "print(\"Sum of all ODD numbers in the list is \",sum(L))"
   ]
  },
  {
   "cell_type": "code",
   "execution_count": 9,
   "id": "aae23a7b",
   "metadata": {},
   "outputs": [
    {
     "name": "stdout",
     "output_type": "stream",
     "text": [
      "Original List ->  [11, 12, 13, 14]\n",
      "Sum of all ODD numbers in the list is  26\n"
     ]
    }
   ],
   "source": [
    "# Q1 Part-i\n",
    "L=[11,12,13,14]\n",
    "print(\"Original List -> \",L)\n",
    "i=0\n",
    "while i<len(L):\n",
    "    if L[i]%2!=0:\n",
    "        L.pop(i)\n",
    "    else:\n",
    "        i+=1\n",
    "print(\"Sum of all ODD numbers in the list is \",sum(L))"
   ]
  },
  {
   "cell_type": "code",
   "execution_count": 10,
   "id": "2e71c4d6",
   "metadata": {},
   "outputs": [
    {
     "name": "stdout",
     "output_type": "stream",
     "text": [
      "Original List ->  [11, 12, 13, 14]\n",
      "24\n"
     ]
    }
   ],
   "source": [
    "# Q1 Part-j\n",
    "L=[11,12,13,14]\n",
    "print(\"Original List -> \",L)\n",
    "def is_prime(n):\n",
    "    if n <= 1:\n",
    "        return False\n",
    "    for i in range(2, int(n ** 0.5) + 1):\n",
    "        if n % i == 0:\n",
    "            return False\n",
    "    return True\n",
    "\n",
    "prime_sum = sum(num for num in L if is_prime(num))\n",
    "print(prime_sum)"
   ]
  },
  {
   "cell_type": "code",
   "execution_count": 11,
   "id": "a0dacdae",
   "metadata": {},
   "outputs": [
    {
     "name": "stdout",
     "output_type": "stream",
     "text": [
      "Original List ->  [11, 12, 13, 14]\n",
      "New List ->  []\n"
     ]
    }
   ],
   "source": [
    "# Q1 Part-k\n",
    "L=[11,12,13,14]\n",
    "print(\"Original List -> \",L)\n",
    "L.clear()\n",
    "print(\"New List -> \",L)"
   ]
  },
  {
   "cell_type": "code",
   "execution_count": 12,
   "id": "905735c2",
   "metadata": {},
   "outputs": [
    {
     "name": "stdout",
     "output_type": "stream",
     "text": [
      "Original List ->  [11, 12, 13, 14]\n",
      "Deleted Succesfully !!\n"
     ]
    }
   ],
   "source": [
    "# Q1 Part-l\n",
    "L=[11,12,13,14]\n",
    "print(\"Original List -> \",L)\n",
    "del L\n",
    "print(\"Deleted Succesfully !!\")"
   ]
  },
  {
   "cell_type": "code",
   "execution_count": 13,
   "id": "9c2d4ec7",
   "metadata": {},
   "outputs": [
    {
     "name": "stdout",
     "output_type": "stream",
     "text": [
      "Original Dictionary ->  {1: 5.6, 2: 7.8, 3: 6.6, 4: 8.7, 5: 7.7}\n",
      "New Dictionary ->  {1: 5.6, 2: 7.8, 3: 6.6, 4: 8.7, 5: 7.7, 8: 8.8}\n"
     ]
    }
   ],
   "source": [
    "# Q2 Part-a\n",
    "D={1:5.6, 2:7.8, 3:6.6, 4:8.7, 5:7.7}\n",
    "print(\"Original Dictionary -> \",D)\n",
    "D[8]=8.8\n",
    "print(\"New Dictionary -> \",D)"
   ]
  },
  {
   "cell_type": "code",
   "execution_count": 14,
   "id": "2a7a5907",
   "metadata": {},
   "outputs": [
    {
     "name": "stdout",
     "output_type": "stream",
     "text": [
      "Original Dictionary ->  {1: 5.6, 2: 7.8, 3: 6.6, 4: 8.7, 5: 7.7}\n",
      "New List ->  {1: 5.6, 3: 6.6, 4: 8.7, 5: 7.7}\n"
     ]
    }
   ],
   "source": [
    "# Q2 Part-b\n",
    "D={1:5.6, 2:7.8, 3:6.6, 4:8.7, 5:7.7}\n",
    "print(\"Original Dictionary -> \",D)\n",
    "del D[2]\n",
    "print(\"New List -> \",D)"
   ]
  },
  {
   "cell_type": "code",
   "execution_count": 15,
   "id": "517931b9",
   "metadata": {},
   "outputs": [
    {
     "name": "stdout",
     "output_type": "stream",
     "text": [
      "Original Dictionary ->  {1: 5.6, 2: 7.8, 3: 6.6, 4: 8.7, 5: 7.7}\n",
      "Is key 6 present ->  False\n"
     ]
    }
   ],
   "source": [
    "# Q2 Part-c\n",
    "D={1:5.6, 2:7.8, 3:6.6, 4:8.7, 5:7.7}\n",
    "print(\"Original Dictionary -> \",D)\n",
    "print(\"Is key 6 present -> \",6 in D)"
   ]
  },
  {
   "cell_type": "code",
   "execution_count": 16,
   "id": "bf722743",
   "metadata": {},
   "outputs": [
    {
     "name": "stdout",
     "output_type": "stream",
     "text": [
      "Original Dictionary ->  {1: 5.6, 2: 7.8, 3: 6.6, 4: 8.7, 5: 7.7}\n",
      "Number of Elements ->  5\n"
     ]
    }
   ],
   "source": [
    "# Q2 Part-d\n",
    "D={1:5.6, 2:7.8, 3:6.6, 4:8.7, 5:7.7}\n",
    "print(\"Original Dictionary -> \",D)\n",
    "print(\"Number of Elements -> \",len(D))"
   ]
  },
  {
   "cell_type": "code",
   "execution_count": 17,
   "id": "c21ad43a",
   "metadata": {},
   "outputs": [
    {
     "name": "stdout",
     "output_type": "stream",
     "text": [
      "Original Dictionary ->  {1: 5.6, 2: 7.8, 3: 6.6, 4: 8.7, 5: 7.7}\n",
      "The sum of all the values present in D ->  15\n"
     ]
    }
   ],
   "source": [
    "# Q2 Part-e\n",
    "D={1:5.6, 2:7.8, 3:6.6, 4:8.7, 5:7.7}\n",
    "print(\"Original Dictionary -> \",D)\n",
    "print(\"The sum of all the values present in D -> \",sum(D))"
   ]
  },
  {
   "cell_type": "code",
   "execution_count": 18,
   "id": "9969f57b",
   "metadata": {},
   "outputs": [
    {
     "name": "stdout",
     "output_type": "stream",
     "text": [
      "Original Dictionary ->  {1: 5.6, 2: 7.8, 3: 6.6, 4: 8.7, 5: 7.7}\n",
      "New Dictionary ->  {1: 5.6, 2: 7.8, 3: 7.1, 4: 8.7, 5: 7.7}\n"
     ]
    }
   ],
   "source": [
    "# Q2 Part-f\n",
    "D={1:5.6, 2:7.8, 3:6.6, 4:8.7, 5:7.7}\n",
    "print(\"Original Dictionary -> \",D)\n",
    "D[3]=7.1\n",
    "print(\"New Dictionary -> \",D)"
   ]
  },
  {
   "cell_type": "code",
   "execution_count": 19,
   "id": "444b3859",
   "metadata": {},
   "outputs": [
    {
     "name": "stdout",
     "output_type": "stream",
     "text": [
      "Original Dictionary ->  {1: 5.6, 2: 7.8, 3: 6.6, 4: 8.7, 5: 7.7}\n",
      "Cleared !!\n"
     ]
    }
   ],
   "source": [
    "# Q2 Part-g\n",
    "D={1:5.6, 2:7.8, 3:6.6, 4:8.7, 5:7.7}\n",
    "print(\"Original Dictionary -> \",D)\n",
    "del D\n",
    "print(\"Cleared !!\")"
   ]
  },
  {
   "cell_type": "code",
   "execution_count": 20,
   "id": "b26c0ce4",
   "metadata": {},
   "outputs": [
    {
     "name": "stdout",
     "output_type": "stream",
     "text": [
      "Original Set-1 ->  {'50', '20', '30', '40', '10', '60'}\n",
      "Original Set-2 ->  {'50', '40', '60', '90', '80', '70'}\n",
      "After adding 55 and 66 in Set-1 it becomes as ->  {'50', '66', '55', '20', '30', '40', '10', '60'}\n"
     ]
    }
   ],
   "source": [
    "# Q3 Part-a\n",
    "S1=set(['10','20','30','40','50','60'])\n",
    "S2=set(['40','50','60','70','80','90'])\n",
    "print(\"Original Set-1 -> \",S1)\n",
    "print(\"Original Set-2 -> \",S2)\n",
    "S1.add(\"55\")\n",
    "S1.add(\"66\")\n",
    "print(\"After adding 55 and 66 in Set-1 it becomes as -> \",S1)"
   ]
  },
  {
   "cell_type": "code",
   "execution_count": 21,
   "id": "cba70015",
   "metadata": {},
   "outputs": [
    {
     "name": "stdout",
     "output_type": "stream",
     "text": [
      "Original Set-1 ->  {'50', '20', '30', '40', '10', '60'}\n",
      "Original Set-2 ->  {'50', '40', '60', '90', '80', '70'}\n",
      "After removing 10 and 30 from Set-1 it becomes as ->  {'50', '20', '40', '60'}\n"
     ]
    }
   ],
   "source": [
    "# Q3 Part-b\n",
    "S1=set(['10','20','30','40','50','60'])\n",
    "S2=set(['40','50','60','70','80','90'])\n",
    "print(\"Original Set-1 -> \",S1)\n",
    "print(\"Original Set-2 -> \",S2)\n",
    "S1.remove(\"10\")\n",
    "S1.remove(\"30\")\n",
    "print(\"After removing 10 and 30 from Set-1 it becomes as -> \",S1)"
   ]
  },
  {
   "cell_type": "code",
   "execution_count": 22,
   "id": "bb65706d",
   "metadata": {},
   "outputs": [
    {
     "name": "stdout",
     "output_type": "stream",
     "text": [
      "Original Set-1 ->  {'50', '20', '30', '40', '10', '60'}\n",
      "Original Set-2 ->  {'50', '40', '60', '90', '80', '70'}\n",
      "Not Present\n"
     ]
    }
   ],
   "source": [
    "# Q3 Part-c\n",
    "S1=set(['10','20','30','40','50','60'])\n",
    "S2=set(['40','50','60','70','80','90'])\n",
    "print(\"Original Set-1 -> \",S1)\n",
    "print(\"Original Set-2 -> \",S2)\n",
    "if (40 in S1)==True:\n",
    "    print(\"Present\")\n",
    "else:\n",
    "    print(\"Not Present\")"
   ]
  },
  {
   "cell_type": "code",
   "execution_count": 23,
   "id": "b1fb36c2",
   "metadata": {},
   "outputs": [
    {
     "name": "stdout",
     "output_type": "stream",
     "text": [
      "Original Set-1 ->  {'50', '20', '30', '40', '10', '60'}\n",
      "Original Set-2 ->  {'50', '40', '60', '90', '80', '70'}\n",
      "Union of S1 and S2 is ->  {'50', '20', '30', '40', '10', '60', '90', '80', '70'}\n"
     ]
    }
   ],
   "source": [
    "# Q3 Part-d\n",
    "S1=set(['10','20','30','40','50','60'])\n",
    "S2=set(['40','50','60','70','80','90'])\n",
    "print(\"Original Set-1 -> \",S1)\n",
    "print(\"Original Set-2 -> \",S2)\n",
    "print(\"Union of S1 and S2 is -> \",S1.union(S2))"
   ]
  },
  {
   "cell_type": "code",
   "execution_count": 24,
   "id": "73aeaa91",
   "metadata": {},
   "outputs": [
    {
     "name": "stdout",
     "output_type": "stream",
     "text": [
      "Original Set-1 ->  {'50', '20', '30', '40', '10', '60'}\n",
      "Original Set-2 ->  {'50', '40', '60', '90', '80', '70'}\n",
      "Intersection of S1 and S2 is ->  {'40', '60', '50'}\n"
     ]
    }
   ],
   "source": [
    "# Q3 Part-e\n",
    "S1=set(['10','20','30','40','50','60'])\n",
    "S2=set(['40','50','60','70','80','90'])\n",
    "print(\"Original Set-1 -> \",S1)\n",
    "print(\"Original Set-2 -> \",S2)\n",
    "print(\"Intersection of S1 and S2 is -> \",S1.intersection(S2))"
   ]
  },
  {
   "cell_type": "code",
   "execution_count": 25,
   "id": "cdad0b41",
   "metadata": {},
   "outputs": [
    {
     "name": "stdout",
     "output_type": "stream",
     "text": [
      "Original Set-1 ->  {'50', '20', '30', '40', '10', '60'}\n",
      "Original Set-2 ->  {'50', '40', '60', '90', '80', '70'}\n",
      "Difference of S1 and S2 is ->  {'20', '30', '10'}\n"
     ]
    }
   ],
   "source": [
    "# Q3 Part-f\n",
    "S1=set(['10','20','30','40','50','60'])\n",
    "S2=set(['40','50','60','70','80','90'])\n",
    "print(\"Original Set-1 -> \",S1)\n",
    "print(\"Original Set-2 -> \",S2)\n",
    "print(\"Difference of S1 and S2 is -> \",S1-S2)"
   ]
  },
  {
   "cell_type": "code",
   "execution_count": 26,
   "id": "87d64437",
   "metadata": {},
   "outputs": [
    {
     "name": "stdout",
     "output_type": "stream",
     "text": [
      "mppsymai\n",
      "vjgxnj\n",
      "vbuwhrkl\n",
      "yllmtg\n",
      "iejirt\n",
      "ihltdy\n",
      "bsrwfe\n",
      "kiubonwo\n",
      "pqtywqg\n",
      "ozyxkfpj\n",
      "ecqfkqeb\n",
      "wcazyx\n",
      "ldnuxgdi\n",
      "kybhxbuk\n",
      "qdjpiuhm\n",
      "vzkflr\n",
      "nasjufp\n",
      "bjaxfd\n",
      "kfjsxy\n",
      "rpslzs\n",
      "kyhcuy\n",
      "djipqx\n",
      "xgnklj\n",
      "vlhkgb\n",
      "kkxvux\n",
      "odhwps\n",
      "dlxjzqp\n",
      "rxenmr\n",
      "fowbnanc\n",
      "kilzfk\n",
      "pflacmj\n",
      "pljuta\n",
      "ayacql\n",
      "jqduay\n",
      "hvjonuu\n",
      "noqplzxs\n",
      "pdfculul\n",
      "kcdaur\n",
      "hpedywvv\n",
      "kuaqnfsd\n",
      "gmlsmqhr\n",
      "fsxquw\n",
      "oxdfgem\n",
      "ufrjqmj\n",
      "cjorxt\n",
      "nkgvbmz\n",
      "pzmdmas\n",
      "ignfgnwr\n",
      "ivfsdzu\n",
      "jezwrr\n",
      "dutciq\n",
      "uhvocnuw\n",
      "iepmgunv\n",
      "xhkiquxe\n",
      "khrfhn\n",
      "tjpdgcgv\n",
      "kfjtpn\n",
      "qujakjrc\n",
      "zqrvqu\n",
      "ddlron\n",
      "rfsnfi\n",
      "syqunb\n",
      "rlwcdknw\n",
      "bbsmol\n",
      "etfhfihz\n",
      "txrgit\n",
      "jqmlnmdk\n",
      "lluantn\n",
      "vhjjkz\n",
      "azaqkcl\n",
      "adbmpr\n",
      "ygtdayhp\n",
      "ejrtezj\n",
      "bgtqnd\n",
      "jwmvsakk\n",
      "xcxfjmr\n",
      "jhbwoo\n",
      "schnehzo\n",
      "uzqgbkyp\n",
      "sfayfh\n",
      "inagfif\n",
      "bgfpic\n",
      "gdbpftuk\n",
      "galhkrxf\n",
      "mtslkul\n",
      "zihjtqs\n",
      "garzcvk\n",
      "ffpxvk\n",
      "mhxlyps\n",
      "xcbqmoo\n",
      "mirpxq\n",
      "zuhwxz\n",
      "fkafem\n",
      "pwfzxd\n",
      "xdzkugc\n",
      "edrytl\n",
      "ozqvdy\n",
      "gppzkts\n",
      "vcccpla\n",
      "xfafpne\n"
     ]
    }
   ],
   "source": [
    "# Q4 Part-a\n",
    "import random\n",
    "\n",
    "for _ in range(100):\n",
    "    length = random.randint(6, 8)\n",
    "    # Generate random letters (a-z) using ASCII codes\n",
    "    random_str = ''.join(chr(random.randint(97, 122)) for _ in range(length))\n",
    "    print(random_str)"
   ]
  },
  {
   "cell_type": "code",
   "execution_count": null,
   "id": "be67191a",
   "metadata": {},
   "outputs": [
    {
     "name": "stdout",
     "output_type": "stream",
     "text": [
      "601 607 613 617 619 631 641 643 647 653 659 661 673 677 683 691 701 709 719 727 733 739 743 751 757 761 769 773 787 797 "
     ]
    }
   ],
   "source": [
    "# Q4 Part-b\n",
    "for num in range(600, 801):\n",
    "    if num > 1:\n",
    "        for i in range(2, num):\n",
    "            if (num % i) == 0:\n",
    "                break\n",
    "        else:\n",
    "            print(num, end=' ')"
   ]
  },
  {
   "cell_type": "code",
   "execution_count": 28,
   "id": "95998852",
   "metadata": {},
   "outputs": [
    {
     "name": "stdout",
     "output_type": "stream",
     "text": [
      "126 189 252 315 378 441 504 567 630 693 756 819 882 945 "
     ]
    }
   ],
   "source": [
    "# Q4 Part-c\n",
    "for num in range(100, 1001):\n",
    "    if num % 7 == 0 and num % 9 == 0:\n",
    "        print(num, end=' ')"
   ]
  },
  {
   "cell_type": "code",
   "execution_count": 29,
   "id": "49bf5b7c",
   "metadata": {},
   "outputs": [
    {
     "name": "stdout",
     "output_type": "stream",
     "text": [
      "List 1: [17, 26, 23, 16, 13, 27, 14, 18, 23, 16]\n",
      "List 2: [13, 11, 26, 17, 24, 28, 21, 15, 27, 10]\n",
      "Common numbers: [17, 26, 27, 13]\n",
      "Unique numbers: [10, 11, 14, 15, 16, 18, 21, 23, 24, 28]\n",
      "Min in List 1: 13 | Min in List 2: 10\n",
      "Max in List 1: 27 | Max in List 2: 28\n",
      "Sum of List 1: 193 | Sum of List 2: 192\n"
     ]
    }
   ],
   "source": [
    "# Q5\n",
    "import random\n",
    "\n",
    "# Generate two lists of 10 random numbers between 10 and 30\n",
    "list1 = [random.randint(10, 30) for _ in range(10)]\n",
    "list2 = [random.randint(10, 30) for _ in range(10)]\n",
    "\n",
    "print(\"List 1:\", list1)\n",
    "print(\"List 2:\", list2)\n",
    "\n",
    "# (i) Common numbers\n",
    "common = list(set(list1) & set(list2))\n",
    "print(\"Common numbers:\", common)\n",
    "\n",
    "# (ii) Unique numbers in both lists\n",
    "unique = list(set(list1) ^ set(list2))\n",
    "print(\"Unique numbers:\", unique)\n",
    "\n",
    "# (iii) Minimum in both lists\n",
    "print(\"Min in List 1:\", min(list1), \"| Min in List 2:\", min(list2))\n",
    "\n",
    "# (iv) Maximum in both lists\n",
    "print(\"Max in List 1:\", max(list1), \"| Max in List 2:\", max(list2))\n",
    "\n",
    "# (v) Sum of both lists\n",
    "print(\"Sum of List 1:\", sum(list1), \"| Sum of List 2:\", sum(list2))\n"
   ]
  },
  {
   "cell_type": "code",
   "execution_count": 30,
   "id": "b3b6ba6c",
   "metadata": {},
   "outputs": [
    {
     "name": "stdout",
     "output_type": "stream",
     "text": [
      "Odd numbers count: 55\n",
      "Even numbers count: 45\n",
      "Prime numbers count: 19\n"
     ]
    }
   ],
   "source": [
    "# Q6\n",
    "import random\n",
    "import math\n",
    "\n",
    "numbers = [random.randint(100, 900) for _ in range(100)]\n",
    "\n",
    "# (i) Odd numbers\n",
    "odds = [n for n in numbers if n % 2 != 0]\n",
    "print(\"Odd numbers count:\", len(odds))\n",
    "\n",
    "# (ii) Even numbers\n",
    "evens = [n for n in numbers if n % 2 == 0]\n",
    "print(\"Even numbers count:\", len(evens))\n",
    "\n",
    "# (iii) Prime numbers\n",
    "def is_prime(n):\n",
    "    if n < 2:\n",
    "        return False\n",
    "    for i in range(2, int(math.sqrt(n)) + 1):\n",
    "        if n % i == 0:\n",
    "            return False\n",
    "    return True\n",
    "\n",
    "primes = [n for n in numbers if is_prime(n)]\n",
    "print(\"Prime numbers count:\", len(primes))"
   ]
  },
  {
   "cell_type": "code",
   "execution_count": 31,
   "id": "360ecf91",
   "metadata": {},
   "outputs": [
    {
     "name": "stdout",
     "output_type": "stream",
     "text": [
      "Dictionary written to file.\n"
     ]
    }
   ],
   "source": [
    "# Q7\n",
    "D = {1:\"One\", 2:\"Two\", 3:\"Three\", 4:\"Four\", 5:\"Five\"}\n",
    "\n",
    "with open(\"dictionary.txt\", \"w\") as f:\n",
    "    for key, value in D.items():\n",
    "        f.write(f\"{key}, {value}\\n\")\n",
    "print(\"Dictionary written to file.\")"
   ]
  },
  {
   "cell_type": "code",
   "execution_count": 32,
   "id": "7b81422d",
   "metadata": {},
   "outputs": [
    {
     "name": "stdout",
     "output_type": "stream",
     "text": [
      "Lengths written to file.\n"
     ]
    }
   ],
   "source": [
    "# Q8\n",
    "L = [\"One\", \"Two\", \"Three\", \"Four\", \"Five\"]\n",
    "\n",
    "with open(\"lengths.txt\", \"w\") as f:\n",
    "    for item in L:\n",
    "        f.write(f\"{item}, {len(item)}\\n\")\n",
    "print(\"Lengths written to file.\")"
   ]
  },
  {
   "cell_type": "code",
   "execution_count": 33,
   "id": "b0b8db8b",
   "metadata": {},
   "outputs": [
    {
     "name": "stdout",
     "output_type": "stream",
     "text": [
      "Random strings written to file.\n"
     ]
    }
   ],
   "source": [
    "# Q9\n",
    "import random\n",
    "import string\n",
    "\n",
    "with open(\"random_strings.txt\", \"w\") as f:\n",
    "    for _ in range(100):\n",
    "        length = random.randint(10, 15)\n",
    "        s = ''.join(random.choices(string.ascii_letters, k=length))\n",
    "        f.write(s + \"\\n\")\n",
    "print(\"Random strings written to file.\")"
   ]
  },
  {
   "cell_type": "code",
   "execution_count": 34,
   "id": "cc98d87d",
   "metadata": {},
   "outputs": [
    {
     "name": "stdout",
     "output_type": "stream",
     "text": [
      "Prime numbers written to file.\n"
     ]
    }
   ],
   "source": [
    "# Q10\n",
    "def is_prime(n):\n",
    "    if n < 2:\n",
    "        return False\n",
    "    for i in range(2, int(n**0.5) + 1):\n",
    "        if n % i == 0:\n",
    "            return False\n",
    "    return True\n",
    "\n",
    "with open(\"primes.txt\", \"w\") as f:\n",
    "    for num in range(600, 801):\n",
    "        if is_prime(num):\n",
    "            f.write(str(num) + \"\\n\")\n",
    "print(\"Prime numbers written to file.\")"
   ]
  },
  {
   "cell_type": "code",
   "execution_count": 35,
   "id": "35b58ac5",
   "metadata": {},
   "outputs": [
    {
     "name": "stdout",
     "output_type": "stream",
     "text": [
      "Time taken: 0.1764 seconds\n"
     ]
    }
   ],
   "source": [
    "# Q11\n",
    "import time\n",
    "\n",
    "start_time = time.time()\n",
    "\n",
    "# Your code here\n",
    "sum = 0\n",
    "for i in range(1, 1000001):\n",
    "    sum += i\n",
    "\n",
    "end_time = time.time()\n",
    "print(f\"Time taken: {end_time - start_time:.4f} seconds\")"
   ]
  },
  {
   "cell_type": "code",
   "execution_count": 36,
   "id": "87d111d0",
   "metadata": {},
   "outputs": [
    {
     "name": "stdout",
     "output_type": "stream",
     "text": [
      "Size: 5000, Time: 0.0000 sec\n",
      "Size: 10000, Time: 0.0000 sec\n",
      "Size: 15000, Time: 0.0000 sec\n",
      "Size: 20000, Time: 0.0000 sec\n",
      "Size: 25000, Time: 0.0000 sec\n"
     ]
    },
    {
     "data": {
      "image/png": "[encoded data removed]",
      "text/plain": [
       "<Figure size 640x480 with 1 Axes>"
      ]
     },
     "metadata": {},
     "output_type": "display_data"
    }
   ],
   "source": [
    "# Q12\n",
    "import time\n",
    "import random\n",
    "import matplotlib.pyplot as plt\n",
    "\n",
    "sizes = [5000, 10000, 15000, 20000, 25000]\n",
    "times = []\n",
    "\n",
    "for size in sizes:\n",
    "    data = [random.randint(1, 100000) for _ in range(size)]\n",
    "    start = time.time()\n",
    "    data.sort()\n",
    "    end = time.time()\n",
    "    times.append(end - start)\n",
    "    print(f\"Size: {size}, Time: {end - start:.4f} sec\")\n",
    "\n",
    "# Plotting\n",
    "plt.plot(sizes, times, marker='o')\n",
    "plt.xlabel('Number of elements')\n",
    "plt.ylabel('Time (seconds)')\n",
    "plt.title('Sorting Time Analysis')\n",
    "plt.grid()\n",
    "plt.show()"
   ]
  },
  {
   "cell_type": "code",
   "execution_count": 40,
   "id": "7fe71394",
   "metadata": {},
   "outputs": [
    {
     "name": "stdout",
     "output_type": "stream",
     "text": [
      "Student with highest average: Charlie (91.8)\n",
      "Student with lowest average: Diana (67.0)\n"
     ]
    }
   ],
   "source": [
    "# Q13\n",
    "# Restore built-in sum function if overwritten\n",
    "del sum\n",
    "\n",
    "# Student marks data\n",
    "students = {\n",
    "    \"Alice\": [85, 90, 78, 92, 88],\n",
    "    \"Bob\": [72, 68, 75, 80, 65],\n",
    "    \"Charlie\": [90, 95, 92, 88, 94],\n",
    "    \"Diana\": [60, 65, 70, 68, 72]\n",
    "}\n",
    "\n",
    "# Calculate averages\n",
    "averages = {}\n",
    "for name, marks in students.items():\n",
    "    averages[name] = sum(marks) / len(marks)\n",
    "\n",
    "# Find student with highest average\n",
    "highest_name = max(averages, key=averages.get)\n",
    "highest_avg = averages[highest_name]\n",
    "\n",
    "# Find student with lowest average\n",
    "lowest_name = min(averages, key=averages.get)\n",
    "lowest_avg = averages[lowest_name]\n",
    "\n",
    "# Print results\n",
    "print(f\"Student with highest average: {highest_name} ({highest_avg:.1f})\")\n",
    "print(f\"Student with lowest average: {lowest_name} ({lowest_avg:.1f})\")\n"
   ]
  }
 ],
 "metadata": {
  "kernelspec": {
   "display_name": "base",
   "language": "python",
   "name": "python3"
  },
  "language_info": {
   "codemirror_mode": {
    "name": "ipython",
    "version": 3
   },
   "file_extension": ".py",
   "mimetype": "text/x-python",
   "name": "python",
   "nbconvert_exporter": "python",
   "pygments_lexer": "ipython3",
   "version": "3.12.7"
  }
 },
 "nbformat": 4,
 "nbformat_minor": 5
}
