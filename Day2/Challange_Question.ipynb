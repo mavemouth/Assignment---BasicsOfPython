{
 "cells": [
  {
   "cell_type": "code",
   "execution_count": 1,
   "id": "a9e1b396",
   "metadata": {},
   "outputs": [
    {
     "name": "stdout",
     "output_type": "stream",
     "text": [
      "Original List: ['Ram', 1, 'Shyam', 2, 'Aman', 3]\n",
      "Sorted List: [1, 2, 3, 'Aman', 'Ram', 'Shyam']\n"
     ]
    }
   ],
   "source": [
    "L = [\"Ram\", 1, \"Shyam\", 2, \"Aman\", 3]\n",
    "print(\"Original List:\", L)\n",
    "\n",
    "# Separate strings and numbers\n",
    "strings = sorted([x for x in L if isinstance(x, str)])\n",
    "numbers = sorted([x for x in L if isinstance(x, int)])\n",
    "\n",
    "# Combine them (you can decide the order)\n",
    "L_sorted = numbers + strings\n",
    "print(\"Sorted List:\", L_sorted)\n"
   ]
  }
 ],
 "metadata": {
  "kernelspec": {
   "display_name": "base",
   "language": "python",
   "name": "python3"
  },
  "language_info": {
   "codemirror_mode": {
    "name": "ipython",
    "version": 3
   },
   "file_extension": ".py",
   "mimetype": "text/x-python",
   "name": "python",
   "nbconvert_exporter": "python",
   "pygments_lexer": "ipython3",
   "version": "3.12.7"
  }
 },
 "nbformat": 4,
 "nbformat_minor": 5
}
